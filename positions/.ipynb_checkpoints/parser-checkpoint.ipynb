{
 "cells": [
  {
   "cell_type": "markdown",
   "metadata": {},
   "source": [
    "# Parser\n",
    "\n",
    "This notebook contains instructions for how to replay games that has been scraped, to create a database of positions/centers/whatever. The code base will be expanded over time, based on what databases we're asked for."
   ]
  },
  {
   "cell_type": "markdown",
   "metadata": {},
   "source": [
    "## Imports"
   ]
  },
  {
   "cell_type": "code",
   "execution_count": 1,
   "metadata": {},
   "outputs": [],
   "source": [
    "import os\n",
    "os.chdir('../')\n",
    "\n",
    "import pandas as pd\n",
    "\n",
    "from positions.parser import GameFile\n",
    "from positions.database import PositionsDB\n",
    "from adjudicator.game import OrderInputError"
   ]
  },
  {
   "cell_type": "markdown",
   "metadata": {},
   "source": [
    "## Replaying one game\n",
    "\n",
    "The `GameFile` class from `positions.parser` can be used to lead a game html-file and replay the game."
   ]
  },
  {
   "cell_type": "code",
   "execution_count": null,
   "metadata": {
    "scrolled": true
   },
   "outputs": [],
   "source": [
    "game = GameFile('Classic', 'ClassicGunboat', 'webDiplomacy', '72708')\n",
    "game.game.show()"
   ]
  },
  {
   "cell_type": "markdown",
   "metadata": {},
   "source": [
    "Use the `adjudicate()` method to move the game forward one phase.\n",
    "\n",
    "Use the `run()` method to replay the game until its end."
   ]
  },
  {
   "cell_type": "code",
   "execution_count": null,
   "metadata": {},
   "outputs": [],
   "source": [
    "game.adjudicate()\n",
    "game.game.show()"
   ]
  },
  {
   "cell_type": "code",
   "execution_count": null,
   "metadata": {},
   "outputs": [],
   "source": [
    "game.run()\n",
    "game.game.show()"
   ]
  },
  {
   "cell_type": "markdown",
   "metadata": {},
   "source": [
    "## Creating a database of positions\n",
    "\n",
    "The `PositionsDB` class form `positions.database` can be used to play through all games associated with a given variant, and create your desired database. At the moment, customizable options are somewhat limited. Playing and loading games can be somewhat tedius. The code runs at ~1s per game."
   ]
  },
  {
   "cell_type": "code",
   "execution_count": 2,
   "metadata": {},
   "outputs": [
    {
     "name": "stderr",
     "output_type": "stream",
     "text": [
      "/Library/Frameworks/Python.framework/Versions/3.8/lib/python3.8/site-packages/IPython/core/interactiveshell.py:3347: DtypeWarning: Columns (43,63) have mixed types.Specify dtype option on import or set low_memory=False.\n",
      "  if (await self.run_code(code, result,  async_=asy)):\n"
     ]
    }
   ],
   "source": [
    "data = PositionsDB('Classic', 'ClassicGunboat', 'webDiplomacy')"
   ]
  },
  {
   "cell_type": "markdown",
   "metadata": {},
   "source": [
    "To make a database over supply center-controle, use the `load_centers(k)` method. Here, `k` sets a limit on the number of games to load in one batch. That is, you can load games in batches."
   ]
  },
  {
   "cell_type": "code",
   "execution_count": null,
   "metadata": {},
   "outputs": [],
   "source": [
    "data.load_centers(5000)"
   ]
  },
  {
   "cell_type": "markdown",
   "metadata": {},
   "source": [
    "Use the `save_csv()` method to save the database as a csv-file in the `positions/data` folder. The file is named automatically. Back-up copies will have to be made manually."
   ]
  },
  {
   "cell_type": "code",
   "execution_count": 11,
   "metadata": {},
   "outputs": [],
   "source": [
    "data.save_csv()"
   ]
  },
  {
   "cell_type": "markdown",
   "metadata": {},
   "source": [
    "Use the `load_csv()` method to load a csv-file. Note that, loading a file completely overwrites the corrently loaded databse. So be a little careful."
   ]
  },
  {
   "cell_type": "code",
   "execution_count": 7,
   "metadata": {},
   "outputs": [],
   "source": [
    "data.load_csv()"
   ]
  }
 ],
 "metadata": {
  "kernelspec": {
   "display_name": "Python 3",
   "language": "python",
   "name": "python3"
  },
  "language_info": {
   "codemirror_mode": {
    "name": "ipython",
    "version": 3
   },
   "file_extension": ".py",
   "mimetype": "text/x-python",
   "name": "python",
   "nbconvert_exporter": "python",
   "pygments_lexer": "ipython3",
   "version": "3.8.7"
  }
 },
 "nbformat": 4,
 "nbformat_minor": 4
}
